{
 "cells": [
  {
   "cell_type": "code",
   "execution_count": 1,
   "id": "57e9f7a7",
   "metadata": {},
   "outputs": [],
   "source": [
    "##### Loading Packages #####\n",
    "\n",
    "import glob\n",
    "import argparse\n",
    "import os\n",
    "from re import L\n",
    "import pandas as pd\n",
    "import itertools\n",
    "import numpy as np\n",
    "from scipy.stats import pearsonr\n",
    "\n",
    "import matplotlib as mpl\n",
    "import matplotlib.pyplot as plt\n",
    "from matplotlib.backends.backend_pdf import PdfPages\n",
    "from mpl_toolkits.axes_grid1.inset_locator import inset_axes\n",
    "\n",
    "from tfsplt_utils import read_sig_file, read_folder, read_folder2"
   ]
  },
  {
   "cell_type": "code",
   "execution_count": 2,
   "id": "b2b25a46",
   "metadata": {},
   "outputs": [],
   "source": [
    "##### Main Arguments #####\n",
    "PROJECT = \"podcast\"\n",
    "PROJECT = \"tfs\"\n",
    "\n",
    "\n",
    "if PROJECT == \"podcast\":\n",
    "    KEYS = [\"comp\"]\n",
    "else:\n",
    "    KEYS = [\"comp\"]\n",
    "    KEYS = [\"prod\"]\n",
    "    KEYS = [\"comp\",\"prod\"]\n",
    "\n",
    "\n",
    "\n",
    "\n"
   ]
  },
  {
   "cell_type": "code",
   "execution_count": null,
   "id": "93b8cb1a",
   "metadata": {},
   "outputs": [],
   "source": []
  }
 ],
 "metadata": {
  "kernelspec": {
   "display_name": "Python 3",
   "language": "python",
   "name": "python3"
  },
  "language_info": {
   "codemirror_mode": {
    "name": "ipython",
    "version": 3
   },
   "file_extension": ".py",
   "mimetype": "text/x-python",
   "name": "python",
   "nbconvert_exporter": "python",
   "pygments_lexer": "ipython3",
   "version": "3.10.4"
  },
  "vscode": {
   "interpreter": {
    "hash": "591a7b5432774fb1d6f7d1b369fc696284217cfd64410156a35232e242fa6d56"
   }
  }
 },
 "nbformat": 4,
 "nbformat_minor": 5
}
