{
 "cells": [
  {
   "cell_type": "code",
   "execution_count": 1,
   "metadata": {},
   "outputs": [],
   "source": [
    "import matplotlib.pyplot as plt\n",
    "import numpy as np\n",
    "import string\n",
    "from scipy.spatial.distance import pdist, squareform\n",
    "from tfsplt_utils import load_pickle"
   ]
  },
  {
   "cell_type": "code",
   "execution_count": 2,
   "metadata": {},
   "outputs": [
    {
     "name": "stdout",
     "output_type": "stream",
     "text": [
      "Loading /scratch/gpfs/ln1144/247-pickling/results/podcast/777/pickles/embeddings/whisper-tiny.en-encoder/full/cnxt_0001/layer_04.pkl\n",
      "Original datum len: 6023\n",
      "Filtered datum len: 6023\n"
     ]
    }
   ],
   "source": [
    "# load file\n",
    "model = \"whisper-tiny.en-encoder\"\n",
    "ctx = 1\n",
    "layer = 4\n",
    "file = f\"../data/pickling/podcast/777/pickles/embeddings/{model}/full/cnxt_{ctx}/layer_{layer}.pkl\"\n",
    "\n",
    "file = f\"/scratch/gpfs/ln1144/247-pickling/results/podcast/777/pickles/embeddings/{model}/full/cnxt_{ctx:04d}/layer_{layer:02d}.pkl\"\n",
    "\n",
    "df = load_pickle(file)\n",
    "print(f\"Original datum len: {len(df)}\")\n",
    "\n",
    "# clean nan (first token)\n",
    "if model != \"glove50\":\n",
    "    df[\"is_nan\"] = df[\"embeddings\"].apply(lambda x: np.isnan(x).all())\n",
    "    df = df[~df[\"is_nan\"]]\n",
    "else:\n",
    "    df = df.dropna(subset=[\"embeddings\"])\n",
    "print(f\"Filtered datum len: {len(df)}\")"
   ]
  },
  {
   "cell_type": "code",
   "execution_count": 3,
   "metadata": {},
   "outputs": [
    {
     "name": "stdout",
     "output_type": "stream",
     "text": [
      "(6023, 4608)\n"
     ]
    }
   ],
   "source": [
    "# pdist\n",
    "embs = df.embeddings.tolist()\n",
    "embs = np.array(embs)\n",
    "print(embs.shape)\n",
    "sm2 = pdist(embs, metric=\"correlation\")\n",
    "sm = 1 - sm2"
   ]
  },
  {
   "cell_type": "code",
   "execution_count": null,
   "metadata": {},
   "outputs": [],
   "source": [
    "plt.imshow(squareform(sm), cmap=\"jet\", vmin=-sm.max(), vmax=sm.max(), origin=\"lower\")"
   ]
  }
 ],
 "metadata": {
  "kernelspec": {
   "display_name": "Python 3",
   "language": "python",
   "name": "python3"
  },
  "language_info": {
   "codemirror_mode": {
    "name": "ipython",
    "version": 3
   },
   "file_extension": ".py",
   "mimetype": "text/x-python",
   "name": "python",
   "nbconvert_exporter": "python",
   "pygments_lexer": "ipython3",
   "version": "3.10.4"
  },
  "orig_nbformat": 4,
  "vscode": {
   "interpreter": {
    "hash": "591a7b5432774fb1d6f7d1b369fc696284217cfd64410156a35232e242fa6d56"
   }
  }
 },
 "nbformat": 4,
 "nbformat_minor": 2
}
