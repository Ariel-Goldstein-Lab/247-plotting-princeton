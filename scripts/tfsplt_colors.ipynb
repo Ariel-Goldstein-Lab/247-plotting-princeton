{
 "cells": [
  {
   "attachments": {},
   "cell_type": "markdown",
   "metadata": {},
   "source": [
    "## Introduction\n",
    "\n",
    "This notebook is used to test different colors."
   ]
  },
  {
   "cell_type": "code",
   "execution_count": null,
   "metadata": {},
   "outputs": [],
   "source": [
    "import numpy as np\n",
    "import matplotlib as mpl\n",
    "import matplotlib.pyplot as plt"
   ]
  },
  {
   "attachments": {},
   "cell_type": "markdown",
   "metadata": {},
   "source": [
    "## Color Types"
   ]
  },
  {
   "attachments": {},
   "cell_type": "markdown",
   "metadata": {},
   "source": [
    "#### Traditional Colors (Categorical)"
   ]
  },
  {
   "cell_type": "code",
   "execution_count": null,
   "metadata": {},
   "outputs": [],
   "source": [
    "prop_cycle = plt.rcParams[\"axes.prop_cycle\"]\n",
    "colors = prop_cycle.by_key()[\"color\"]  # separate colors\n",
    "print(colors)"
   ]
  },
  {
   "attachments": {},
   "cell_type": "markdown",
   "metadata": {},
   "source": [
    "#### Eric's Colors (Continuous 1D)"
   ]
  },
  {
   "cell_type": "code",
   "execution_count": null,
   "metadata": {},
   "outputs": [],
   "source": [
    "cmap = plt.cm.get_cmap(\"jet\")\n",
    "\n",
    "col_len = 48\n",
    "colors = [cmap(i / col_len) for i in range(0, col_len)]\n",
    "print(colors)"
   ]
  },
  {
   "attachments": {},
   "cell_type": "markdown",
   "metadata": {},
   "source": [
    "#### Self-Defined Colors (Continuous 1+D)"
   ]
  },
  {
   "cell_type": "code",
   "execution_count": null,
   "metadata": {},
   "outputs": [],
   "source": [
    "def colorFader(c1, c2, mix):\n",
    "    \"\"\"Get color in between two colors (based on linear interpolate)\n",
    "\n",
    "    Args:\n",
    "        c1: color 1 in hex format\n",
    "        c2: color 2 in hex format\n",
    "        mix: percentage between two colors (0 is c1, 1 is c2)\n",
    "\n",
    "    Returns:\n",
    "        a color in hex format\n",
    "    \"\"\"\n",
    "    c1 = np.array(mpl.colors.to_rgb(c1))\n",
    "    c2 = np.array(mpl.colors.to_rgb(c2))\n",
    "    return mpl.colors.to_hex((1 - mix) * c1 + mix * c2)"
   ]
  },
  {
   "cell_type": "code",
   "execution_count": null,
   "metadata": {},
   "outputs": [],
   "source": [
    "col_len = 12\n",
    "\n",
    "colors = [ # light blue to black\n",
    "    colorFader(\"#97baf7\", \"#000308\", i / col_len) for i in range(0, col_len)\n",
    "]\n",
    "\n",
    "colors = [ # light red to dark red\n",
    "    colorFader(\"#f2b5b1\", \"#6e0801\", i / col_len) for i in range(0, col_len)\n",
    "]\n",
    "\n",
    "colors = [ # light blue to dark blue\n",
    "    colorFader(\"#97baf7\", \"#032661\", i / col_len) for i in range(0, col_len)\n",
    "]\n",
    "\n",
    "colors = [ # purple to blue\n",
    "    colorFader(\"#800080\", \"#069AF3\", i / col_len) for i in range(0, col_len)\n",
    "]\n",
    "\n",
    "colors = [ # light green to dark green\n",
    "    colorFader(\"#00FF00\", \"#008000\", i / col_len) for i in range(0, col_len)\n",
    "]\n",
    "\n",
    "colors = [ # orange to dark red\n",
    "    colorFader(\"#FF4500\", \"#8C000F\", i / col_len) for i in range(0, col_len)\n",
    "]\n",
    "\n",
    "colors = [ # orange to dark brown\n",
    "    colorFader(\"#fcb603\", \"#402202\", i / col_len) for i in range(0, col_len)\n",
    "]\n",
    "\n",
    "print(colors)"
   ]
  },
  {
   "attachments": {},
   "cell_type": "markdown",
   "metadata": {},
   "source": [
    "## Plot"
   ]
  },
  {
   "cell_type": "code",
   "execution_count": null,
   "metadata": {},
   "outputs": [],
   "source": [
    "fig, ax = plt.subplots()\n",
    "start = 0\n",
    "for color in colors:\n",
    "    ax.axhline(y=start, color=color, linestyle='-')\n",
    "    start += 0.1\n",
    "\n",
    "fig.show()"
   ]
  }
 ],
 "metadata": {
  "kernelspec": {
   "display_name": "Python 3",
   "language": "python",
   "name": "python3"
  },
  "language_info": {
   "codemirror_mode": {
    "name": "ipython",
    "version": 3
   },
   "file_extension": ".py",
   "mimetype": "text/x-python",
   "name": "python",
   "nbconvert_exporter": "python",
   "pygments_lexer": "ipython3",
   "version": "3.10.4"
  },
  "orig_nbformat": 4,
  "vscode": {
   "interpreter": {
    "hash": "591a7b5432774fb1d6f7d1b369fc696284217cfd64410156a35232e242fa6d56"
   }
  }
 },
 "nbformat": 4,
 "nbformat_minor": 2
}
