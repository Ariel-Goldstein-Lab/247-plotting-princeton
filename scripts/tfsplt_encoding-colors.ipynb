{
 "cells": [
  {
   "attachments": {},
   "cell_type": "markdown",
   "metadata": {},
   "source": [
    "## Introduction\n",
    "\n",
    "This notebook is used to test and plot different colors."
   ]
  },
  {
   "cell_type": "code",
   "execution_count": null,
   "metadata": {},
   "outputs": [],
   "source": [
    "import numpy as np\n",
    "import matplotlib as mpl\n",
    "import matplotlib.pyplot as plt\n",
    "\n",
    "from tfsplt_utils import get_cat_color, get_con_color, get_fader_color"
   ]
  },
  {
   "attachments": {},
   "cell_type": "markdown",
   "metadata": {},
   "source": [
    "## Color Types"
   ]
  },
  {
   "attachments": {},
   "cell_type": "markdown",
   "metadata": {},
   "source": [
    "#### Traditional Colors (Categorical)\n",
    "Can get at most 10 categorical colors"
   ]
  },
  {
   "cell_type": "code",
   "execution_count": null,
   "metadata": {},
   "outputs": [],
   "source": [
    "colors = get_cat_color(10)\n",
    "print(colors)"
   ]
  },
  {
   "attachments": {},
   "cell_type": "markdown",
   "metadata": {},
   "source": [
    "#### Continuous Colors"
   ]
  },
  {
   "cell_type": "code",
   "execution_count": null,
   "metadata": {},
   "outputs": [],
   "source": [
    "colors = get_con_color(\"jet\", 48) # Eric's colors\n",
    "colors = get_con_color(\"winter\", 25) # CCN\n",
    "colors = get_con_color(\"viridis\", 25) # Uniform colors\n",
    "\n",
    "print(colors)"
   ]
  },
  {
   "attachments": {},
   "cell_type": "markdown",
   "metadata": {},
   "source": [
    "For more colormaps, checkout https://matplotlib.org/stable/tutorials/colors/colormaps.html"
   ]
  },
  {
   "attachments": {},
   "cell_type": "markdown",
   "metadata": {},
   "source": [
    "#### Self-Defined Continuous Colors"
   ]
  },
  {
   "cell_type": "code",
   "execution_count": null,
   "metadata": {},
   "outputs": [],
   "source": [
    "colors = get_fader_color(\"#f2b5b1\", \"#6e0801\",12) # light red to dark red\n",
    "colors = get_fader_color(\"#97baf7\", \"#032661\",12) # light blue to dark blue\n",
    "colors = get_fader_color(\"#00FF00\", \"#008000\",12) # light green to dark green\n",
    "colors = get_fader_color(\"#97baf7\", \"#000308\",12) # light blue to black\n",
    "colors = get_fader_color(\"#800080\", \"#069AF3\",12) # purple to blue\n",
    "colors = get_fader_color(\"#FF4500\", \"#8C000F\",12) # orange to dark red\n",
    "colors = get_fader_color(\"#fcb603\", \"#402202\",12) # orange to dark brown\n",
    "\n",
    "print(colors)"
   ]
  },
  {
   "attachments": {},
   "cell_type": "markdown",
   "metadata": {},
   "source": [
    "## Plot"
   ]
  },
  {
   "cell_type": "code",
   "execution_count": null,
   "metadata": {},
   "outputs": [],
   "source": [
    "fig, ax = plt.subplots()\n",
    "start = 0\n",
    "for color in colors:\n",
    "    ax.axhline(y=start, color=color, linestyle='-')\n",
    "    start += 0.1\n",
    "\n",
    "fig.show()"
   ]
  }
 ],
 "metadata": {
  "kernelspec": {
   "display_name": "Python 3",
   "language": "python",
   "name": "python3"
  },
  "language_info": {
   "codemirror_mode": {
    "name": "ipython",
    "version": 3
   },
   "file_extension": ".py",
   "mimetype": "text/x-python",
   "name": "python",
   "nbconvert_exporter": "python",
   "pygments_lexer": "ipython3",
   "version": "3.10.4"
  },
  "orig_nbformat": 4,
  "vscode": {
   "interpreter": {
    "hash": "591a7b5432774fb1d6f7d1b369fc696284217cfd64410156a35232e242fa6d56"
   }
  }
 },
 "nbformat": 4,
 "nbformat_minor": 2
}
