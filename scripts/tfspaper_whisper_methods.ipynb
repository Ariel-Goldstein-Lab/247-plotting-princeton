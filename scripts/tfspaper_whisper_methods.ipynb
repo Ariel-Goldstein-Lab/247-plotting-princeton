{
 "cells": [
  {
   "cell_type": "code",
   "execution_count": null,
   "metadata": {},
   "outputs": [],
   "source": [
    "import os\n",
    "import numpy as np\n",
    "import pandas as pd\n",
    "import matplotlib.pyplot as plt\n",
    "import whisper\n",
    "from scipy.io import wavfile"
   ]
  },
  {
   "cell_type": "code",
   "execution_count": null,
   "metadata": {},
   "outputs": [],
   "source": [
    "def load_audio(filepath):\n",
    "    fs, audio = wavfile.read(filepath)\n",
    "    print(f\"Sampling rate: {fs}\")\n",
    "    print(f\"Audio Length (s): {len(audio) / fs}\")\n",
    "    return fs, audio"
   ]
  },
  {
   "attachments": {},
   "cell_type": "markdown",
   "metadata": {},
   "source": [
    "Spectrogram"
   ]
  },
  {
   "cell_type": "code",
   "execution_count": null,
   "metadata": {},
   "outputs": [],
   "source": [
    "DIR_PATH = \"/projects/HASSON/247/data/conversations-car/\"\n",
    "\n",
    "audio_path = os.path.join(DIR_PATH,\"625/NY625_424_Part2_one_conversation1/audio/NY625_424_Part2_one_conversation1_deid.wav\")\n",
    "audio = load_audio(audio_path)\n",
    "\n",
    "audio_path2 = \"/scratch/gpfs/HASSON/kw1166/whisper-decoder/data/tfs/798_30s_test.wav\"\n",
    "\n",
    "audio = whisper.load_audio(audio_path2, 16000)\n",
    "audio_padded = whisper.pad_or_trim(audio, 480000)\n",
    "audio_spec = whisper.log_mel_spectrogram(audio_padded)"
   ]
  },
  {
   "cell_type": "code",
   "execution_count": null,
   "metadata": {},
   "outputs": [],
   "source": [
    "img = plt.imshow(audio_spec, aspect = \"auto\", origin = \"lower\")\n",
    "plt.axis('off')\n",
    "plt.savefig(\"spec.svg\")"
   ]
  }
 ],
 "metadata": {
  "kernelspec": {
   "display_name": "Python 3",
   "language": "python",
   "name": "python3"
  },
  "language_info": {
   "codemirror_mode": {
    "name": "ipython",
    "version": 3
   },
   "file_extension": ".py",
   "mimetype": "text/x-python",
   "name": "python",
   "nbconvert_exporter": "python",
   "pygments_lexer": "ipython3",
   "version": "3.10.4"
  },
  "orig_nbformat": 4
 },
 "nbformat": 4,
 "nbformat_minor": 2
}
